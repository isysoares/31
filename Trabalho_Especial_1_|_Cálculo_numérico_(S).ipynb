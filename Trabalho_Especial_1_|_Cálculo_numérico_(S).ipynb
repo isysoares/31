{
  "nbformat": 4,
  "nbformat_minor": 0,
  "metadata": {
    "colab": {
      "provenance": [],
      "authorship_tag": "ABX9TyMcrpkjaEOm96irNxQczGvt",
      "include_colab_link": true
    },
    "kernelspec": {
      "name": "python3",
      "display_name": "Python 3"
    },
    "language_info": {
      "name": "python"
    }
  },
  "cells": [
    {
      "cell_type": "markdown",
      "metadata": {
        "id": "view-in-github",
        "colab_type": "text"
      },
      "source": [
        "<a href=\"https://colab.research.google.com/github/isysoares/31/blob/master/Trabalho_Especial_1_%7C_C%C3%A1lculo_num%C3%A9rico_(S).ipynb\" target=\"_parent\"><img src=\"https://colab.research.google.com/assets/colab-badge.svg\" alt=\"Open In Colab\"/></a>"
      ]
    },
    {
      "cell_type": "code",
      "source": [
        "#EX1 (aritmética de ponto flutuante)\n",
        "print(\"------------ right code ------------\\n\")\n",
        "\n",
        "\n",
        "#q Parâmetros da aritmética de ponto flutuante\n",
        "t = 3  # Quantidade de dígitos significativos\n",
        "e_min = -5  # Menor valor do expoente\n",
        "e_max = 5   # Maior valor do expoente\n",
        "\n",
        "# Valores dos números x e y\n",
        "x = 589.0\n",
        "y = 4122.0\n",
        "\n",
        "# Converter x para a notação de ponto flutuante\n",
        "x_exp = 0\n",
        "while abs(x) > 1:\n",
        "    x /= 10\n",
        "    x_exp += 1\n",
        "\n",
        "x_mantissa = round(x, t)\n",
        "print(\"--- CALCULO DO VALOR DE X:\", x,\"----\\n\")\n",
        "\n",
        "print(\"x_expoente (ordem de grandeza)  =>\", x_exp)\n",
        "print(\"x_mantissa =>\",x_mantissa)\n",
        "print(\"Quantidade de dígitos significativos =>\", t, '\\n')\n",
        "x_mantissa\n",
        "x_notacao = \"{}x10^{}\".format(x_mantissa, x_exp)\n",
        "print(\"NOTAÇÂO X =>\", x_notacao, '\\n\\n')\n",
        "\n",
        "\n",
        "print(\"--- CALCULO DO VALOR DE Y:\", y,\"----\\n\")\n",
        "\n",
        "# Converter y para a notação de ponto flutuante\n",
        "y_exp = 0\n",
        "while abs(y) > 1:\n",
        "    y /= 10\n",
        "    y_exp += 1\n",
        "\n",
        "y_mantissa = round(y, t)\n",
        "\n",
        "\n",
        "print(\"y_expoente (ordem de grandeza)  =>\", y_exp)\n",
        "print(\"y_mantissa =>\",y_mantissa)\n",
        "print(\"Quantidade de dígitos significativos =>\", t, '\\n')\n",
        "\n",
        "y_notacao = \"{}x10^{}\".format(y_mantissa, y_exp)\n",
        "print(\"Notação de Y =>\", y_notacao, '\\n')\n",
        "\n",
        "print(\"-------- NOTAÇÕES --------\")\n",
        "\n",
        "print(\"Notação de X =>\", x_notacao)\n",
        "print(\"Notação de Y =>\", y_notacao)\n",
        "\n",
        "print(\"\\n\")\n",
        "\n",
        "print(\"--- MULTIPLICAÇÃO DO X:({}) e Y:({}) ---\\n\".format(x, y))\n",
        "\n",
        "# Realizar a multiplicação dos números na notação de ponto flutuante\n",
        "resultado = x * y\n",
        "resultado_exp = x_exp + y_exp\n",
        "resultado_mantissa = round(resultado, t)\n",
        "resultado_notacao = \"{}x10^{}\".format(resultado_mantissa, resultado_exp)\n",
        "\n",
        "print(\"x * y =\", resultado_notacao)\n",
        "\n",
        "print(\"\\n\")\n",
        "\n",
        "if resultado_exp < e_min:\n",
        "    print(\"Underflow\")\n",
        "elif resultado_exp > e_max:\n",
        "    print(\"Overflow\")"
      ],
      "metadata": {
        "colab": {
          "base_uri": "https://localhost:8080/"
        },
        "id": "fgfxrwe-tcob",
        "outputId": "e3f917ba-a29d-43c6-c6b6-af5e9d9f9550"
      },
      "execution_count": null,
      "outputs": [
        {
          "output_type": "stream",
          "name": "stdout",
          "text": [
            "------------ right code ------------\n",
            "\n",
            "--- CALCULO DO VALOR DE X: 0.589 ----\n",
            "\n",
            "x_expoente => 3\n",
            "x_mantissa => 0.589\n",
            "Quantidade de dígitos significativos => 3 \n",
            "\n",
            "NOTAÇÂO X => 0.589x10^3 \n",
            "\n",
            "\n",
            "--- CALCULO DO VALOR DE Y: 4122.0 ----\n",
            "\n",
            "y_expoente => 4\n",
            "y_mantissa => 0.412\n",
            "Quantidade de dígitos significativos => 3 \n",
            "\n",
            "Notação de Y => 0.412x10^4 \n",
            "\n",
            "-------- NOTAÇÕES --------\n",
            "Notação de X => 0.589x10^3\n",
            "Notação de Y => 0.412x10^4\n",
            "\n",
            "\n",
            "--- MULTIPLICAÇÃO DO X:(0.589) e Y:(0.4122) ---\n",
            "\n",
            "x * y = 0.243x10^7\n",
            "\n",
            "\n",
            "Overflow\n"
          ]
        }
      ]
    },
    {
      "cell_type": "code",
      "execution_count": null,
      "metadata": {
        "colab": {
          "base_uri": "https://localhost:8080/"
        },
        "id": "9wJYQqU7tSeX",
        "outputId": "4b40eda7-ebe7-4bbe-dbfa-4059373c7a2d"
      },
      "outputs": [
        {
          "output_type": "stream",
          "name": "stdout",
          "text": [
            "------------ right code ------------\n",
            "\n",
            "--- CALCULO DO VALOR DE X: 0.589 ----\n",
            "\n",
            "x_expoente => 3\n",
            "x_mantissa => 0.59\n",
            "Quantidade de dígitos significativos => 2 \n",
            "\n",
            "NOTAÇÂO X => 0.59x10^3 \n",
            "\n",
            "\n",
            "--- CALCULO DO VALOR DE Y: 4122.0 ----\n",
            "\n",
            "y_expoente => 4\n",
            "y_mantissa => 0.41\n",
            "Quantidade de dígitos significativos => 2 \n",
            "\n",
            "Notação de Y => 0.41x10^4 \n",
            "\n",
            "-------- NOTAÇÕES --------\n",
            "Notação de X => 0.59x10^3\n",
            "Notação de Y => 0.41x10^4\n",
            "\n",
            "\n",
            "--- MULTIPLICAÇÃO DO X:(0.589) e Y:(0.4122) ---\n",
            "\n",
            "x * y = 0.24x10^7\n",
            "\n",
            "\n",
            "Overflow\n"
          ]
        }
      ],
      "source": [
        "#EX2 (aritmética de ponto flutuante)\n",
        "print(\"------------ right code ------------\\n\")\n",
        "\n",
        "\n",
        "#q Parâmetros da aritmética de ponto flutuante\n",
        "t = 2  # Quantidade de dígitos significativos\n",
        "e_min = -5  # Menor valor do expoente\n",
        "e_max = 5   # Maior valor do expoente\n",
        "\n",
        "# Valores dos números x e y\n",
        "x = 589.0\n",
        "y = 4122.0\n",
        "\n",
        "# Converter x para a notação de ponto flutuante\n",
        "x_exp = 0\n",
        "while abs(x) > 1:\n",
        "    x /= 10\n",
        "    x_exp += 1\n",
        "\n",
        "x_mantissa = round(x, t)\n",
        "print(\"--- CALCULO DO VALOR DE X:\", x,\"----\\n\")\n",
        "\n",
        "print(\"x_expoente (ordem de grandeza) =>\", x_exp)\n",
        "print(\"x_mantissa =>\",x_mantissa)\n",
        "print(\"Quantidade de dígitos significativos =>\", t, '\\n')\n",
        "x_mantissa\n",
        "x_notacao = \"{}x10^{}\".format(x_mantissa, x_exp)\n",
        "print(\"NOTAÇÂO X =>\", x_notacao, '\\n\\n')\n",
        "\n",
        "\n",
        "print(\"--- CALCULO DO VALOR DE Y:\", y,\"----\\n\")\n",
        "\n",
        "# Converter y para a notação de ponto flutuante\n",
        "y_exp = 0\n",
        "while abs(y) > 1:\n",
        "    y /= 10\n",
        "    y_exp += 1\n",
        "\n",
        "y_mantissa = round(y, t)\n",
        "\n",
        "\n",
        "print(\"y_expoente (ordem de grandeza)  =>\", y_exp)\n",
        "print(\"y_mantissa =>\",y_mantissa)\n",
        "print(\"Quantidade de dígitos significativos =>\", t, '\\n')\n",
        "\n",
        "y_notacao = \"{}x10^{}\".format(y_mantissa, y_exp)\n",
        "print(\"Notação de Y =>\", y_notacao, '\\n')\n",
        "\n",
        "print(\"-------- NOTAÇÕES --------\")\n",
        "\n",
        "print(\"Notação de X =>\", x_notacao)\n",
        "print(\"Notação de Y =>\", y_notacao)\n",
        "\n",
        "print(\"\\n\")\n",
        "\n",
        "print(\"--- MULTIPLICAÇÃO DO X:({}) e Y:({}) ---\\n\".format(x, y))\n",
        "\n",
        "# Realizar a multiplicação dos números na notação de ponto flutuante\n",
        "resultado = x * y\n",
        "resultado_exp = x_exp + y_exp\n",
        "resultado_mantissa = round(resultado, t)\n",
        "resultado_notacao = \"{}x10^{}\".format(resultado_mantissa, resultado_exp)\n",
        "\n",
        "print(\"x * y =\", resultado_notacao)\n",
        "\n",
        "print(\"\\n\")\n",
        "\n",
        "if resultado_exp < e_min:\n",
        "    print(\"Underflow\")\n",
        "elif resultado_exp > e_max:\n",
        "    print(\"Overflow\")"
      ]
    },
    {
      "cell_type": "code",
      "source": [
        "#EX3 (aritmética de ponto flutuante)\n",
        "print(\"------------ right code ------------\\n\")\n",
        "\n",
        "\n",
        "#q Parâmetros da aritmética de ponto flutuante\n",
        "t = 1  # Quantidade de dígitos significativos\n",
        "e_min = -5  # Menor valor do expoente\n",
        "e_max = 5   # Maior valor do expoente\n",
        "\n",
        "# Valores dos números x e y\n",
        "x = 589.0\n",
        "y = 4122.0\n",
        "\n",
        "# Converter x para a notação de ponto flutuante\n",
        "x_exp = 0\n",
        "while abs(x) > 1:\n",
        "    x /= 10\n",
        "    x_exp += 1\n",
        "\n",
        "x_mantissa = round(x, t)\n",
        "print(\"--- CALCULO DO VALOR DE X:\", x,\"----\\n\")\n",
        "\n",
        "print(\"x_expoente (ordem de grandeza) =>\", x_exp)\n",
        "print(\"x_mantissa =>\",x_mantissa)\n",
        "print(\"Quantidade de dígitos significativos =>\", t, '\\n')\n",
        "x_mantissa\n",
        "x_notacao = \"{}x10^{}\".format(x_mantissa, x_exp)\n",
        "print(\"NOTAÇÂO X =>\", x_notacao, '\\n\\n')\n",
        "\n",
        "\n",
        "print(\"--- CALCULO DO VALOR DE Y:\", y,\"----\\n\")\n",
        "\n",
        "# Converter y para a notação de ponto flutuante\n",
        "y_exp = 0\n",
        "while abs(y) > 1:\n",
        "    y /= 10\n",
        "    y_exp += 1\n",
        "\n",
        "y_mantissa = round(y, t)\n",
        "\n",
        "\n",
        "print(\"y_expoente (ordem de grandeza)  =>\", y_exp)\n",
        "print(\"y_mantissa =>\",y_mantissa)\n",
        "print(\"Quantidade de dígitos significativos =>\", t, '\\n')\n",
        "\n",
        "y_notacao = \"{}x10^{}\".format(y_mantissa, y_exp)\n",
        "print(\"Notação de Y =>\", y_notacao, '\\n')\n",
        "\n",
        "print(\"-------- NOTAÇÕES --------\")\n",
        "\n",
        "print(\"Notação de X =>\", x_notacao)\n",
        "print(\"Notação de Y =>\", y_notacao)\n",
        "\n",
        "print(\"\\n\")\n",
        "\n",
        "print(\"--- MULTIPLICAÇÃO DO X:({}) e Y:({}) ---\\n\".format(x, y))\n",
        "\n",
        "# Realizar a multiplicação dos números na notação de ponto flutuante\n",
        "resultado = x * y\n",
        "resultado_exp = x_exp + y_exp\n",
        "resultado_mantissa = round(resultado, t)\n",
        "resultado_notacao = \"{}x10^{}\".format(resultado_mantissa, resultado_exp)\n",
        "\n",
        "print(\"x * y =\", resultado_notacao)\n",
        "\n",
        "print(\"\\n\")\n",
        "\n",
        "if resultado_exp < e_min:\n",
        "    print(\"Underflow\")\n",
        "elif resultado_exp > e_max:\n",
        "    print(\"Overflow\")"
      ],
      "metadata": {
        "colab": {
          "base_uri": "https://localhost:8080/"
        },
        "id": "FUor9mECu_H8",
        "outputId": "62279d7d-6a71-4ccc-8afd-249d1efe5687"
      },
      "execution_count": null,
      "outputs": [
        {
          "output_type": "stream",
          "name": "stdout",
          "text": [
            "------------ right code ------------\n",
            "\n",
            "--- CALCULO DO VALOR DE X: 0.589 ----\n",
            "\n",
            "x_expoente (ordem de grandeza) => 3\n",
            "x_mantissa => 0.6\n",
            "Quantidade de dígitos significativos => 1 \n",
            "\n",
            "NOTAÇÂO X => 0.6x10^3 \n",
            "\n",
            "\n",
            "--- CALCULO DO VALOR DE Y: 4122.0 ----\n",
            "\n",
            "y_expoente (ordem de grandeza)  => 4\n",
            "y_mantissa => 0.4\n",
            "Quantidade de dígitos significativos => 1 \n",
            "\n",
            "Notação de Y => 0.4x10^4 \n",
            "\n",
            "-------- NOTAÇÕES --------\n",
            "Notação de X => 0.6x10^3\n",
            "Notação de Y => 0.4x10^4\n",
            "\n",
            "\n",
            "--- MULTIPLICAÇÃO DO X:(0.589) e Y:(0.4122) ---\n",
            "\n",
            "x * y = 0.2x10^7\n",
            "\n",
            "\n",
            "Overflow\n"
          ]
        }
      ]
    },
    {
      "cell_type": "code",
      "source": [
        "#EX4 (aritmética de ponto flutuante)\n",
        "print(\"------------ right code! ------------\\n\")\n",
        "\n",
        "\n",
        "# Parâmetros da aritmética de ponto flutuante\n",
        "t = 4  # Quantidade de dígitos significativos\n",
        "e_min = -1  # Menor valor do expoente\n",
        "e_max = 1   # Maior valor do expoente\n",
        "\n",
        "# Converter x para a notação de ponto flutuante\n",
        "\n",
        "# Valores dos números x e y\n",
        "x = 0.0001\n",
        "y = 0.02\n",
        "\n",
        "# Verificar e imprimir o expoente de x\n",
        "if abs(x) < 1:\n",
        "    x_exp1 = 0\n",
        "\n",
        "    while abs(x) < 0.1:\n",
        "        x *= 10\n",
        "        x_exp1 -= 1\n",
        "    print(\"x_expoente (ordem de grandeza) =>\", x_exp1)\n",
        "else:\n",
        "    x_exp = 0\n",
        "    while abs(x) > 1:\n",
        "        x /= 10\n",
        "        x_exp += 1\n",
        "    print(\"x_expoente (ordem de grandeza) =>\", x_exp)\n",
        "\n",
        "# Verificar e imprimir o expoente de y\n",
        "if abs(y) < 1:\n",
        "    y_exp1 = 0\n",
        "    while abs(y) < 0.1:\n",
        "        y *= 10\n",
        "        y_exp1 -= 1\n",
        "    print(\"y_expoente (ordem de grandeza) =>\", y_exp1)\n",
        "else:\n",
        "    y_exp = 0\n",
        "    while abs(y) > 1:\n",
        "        y /= 10\n",
        "        y_exp += 1\n",
        "    print(\"y_expoente (ordem de grandeza) =>\", y_exp)\n",
        "\n",
        "\n",
        "x_exp = 0\n",
        "while abs(x) > 1:\n",
        "    x /= 10\n",
        "    x_exp += 1\n",
        "\n",
        "x_mantissa = round(x, t)\n",
        "print(\"--- CALCULO DO VALOR DE X:\", x,\"----\\n\")\n",
        "\n",
        "print(\"x_expoente =>\", x_exp1)\n",
        "print(\"x_mantissa =>\",x_mantissa)\n",
        "print(\"Quantidade de dígitos significativos =>\", t, '\\n')\n",
        "x_mantissa\n",
        "x_notacao = \"{}x10^{}\".format(x_mantissa, x_exp1)\n",
        "print(\"NOTAÇÂO X =>\", x_notacao, '\\n\\n')\n",
        "\n",
        "\n",
        "print(\"--- CALCULO DO VALOR DE Y:\", y,\"----\\n\")\n",
        "\n",
        "# Converter y para a notação de ponto flutuante\n",
        "y_exp = 0\n",
        "while abs(y) > 1:\n",
        "    y /= 10\n",
        "    y_exp += 1\n",
        "\n",
        "y_mantissa = round(y, t)\n",
        "\n",
        "print(\"y_expoente =>\", y_exp1)\n",
        "print(\"y_mantissa =>\",y_mantissa)\n",
        "print(\"Quantidade de dígitos significativos =>\", t, '\\n')\n",
        "\n",
        "y_notacao = \"{}x10^{}\".format(y_mantissa, y_exp1)\n",
        "print(\"Notação de Y =>\", y_notacao, '\\n')\n",
        "\n",
        "print(\"-------- NOTAÇÕES --------\")\n",
        "\n",
        "print(\"Notação de X =>\", x_notacao)\n",
        "print(\"Notação de Y =>\", y_notacao)\n",
        "\n",
        "print(\"\\n\")\n",
        "\n",
        "print(\"--- MULTIPLICAÇÃO DO X:({}) e Y:({}) ---\\n\".format(x, y))\n",
        "\n",
        "# Realizar a multiplicação dos números na notação de ponto flutuante\n",
        "resultado = (y_mantissa) * (x_mantissa)\n",
        "resultado_exp = x_exp1 + y_exp1\n",
        "# Valores dos números x e y\n",
        "if abs(resultado) < 1:\n",
        "  resultado *= 10\n",
        "resultado_exp -= 1\n",
        "resultado_mantissa = round(resultado, t)\n",
        "\n",
        "resultado_notacao = \"{}x10^{}\".format(resultado_mantissa, resultado_exp)\n",
        "\n",
        "if resultado_mantissa < 1:\n",
        "    print(\"Underflow\")\n",
        "elif resultado_exp > e_max:\n",
        "    print(\"Overflow\")\n",
        "print(\"x * y =\", resultado_notacao)\n",
        "\n",
        "print(\"\\n\")"
      ],
      "metadata": {
        "colab": {
          "base_uri": "https://localhost:8080/"
        },
        "id": "R30fiAwngelY",
        "outputId": "7ea38526-273e-4082-ae2b-5063aa331b40"
      },
      "execution_count": null,
      "outputs": [
        {
          "output_type": "stream",
          "name": "stdout",
          "text": [
            "------------ right code! ------------\n",
            "\n",
            "x_expoente (ordem de grandeza) => -3\n",
            "y_expoente (ordem de grandeza) => -1\n",
            "--- CALCULO DO VALOR DE X: 0.1 ----\n",
            "\n",
            "x_expoente => -3\n",
            "x_mantissa => 0.1\n",
            "Quantidade de dígitos significativos => 4 \n",
            "\n",
            "NOTAÇÂO X => 0.1x10^-3 \n",
            "\n",
            "\n",
            "--- CALCULO DO VALOR DE Y: 0.2 ----\n",
            "\n",
            "y_expoente => -1\n",
            "y_mantissa => 0.2\n",
            "Quantidade de dígitos significativos => 4 \n",
            "\n",
            "Notação de Y => 0.2x10^-1 \n",
            "\n",
            "-------- NOTAÇÕES --------\n",
            "Notação de X => 0.1x10^-3\n",
            "Notação de Y => 0.2x10^-1\n",
            "\n",
            "\n",
            "--- MULTIPLICAÇÃO DO X:(0.1) e Y:(0.2) ---\n",
            "\n",
            "Underflow\n",
            "x * y = 0.2x10^-5\n",
            "\n",
            "\n"
          ]
        }
      ]
    },
    {
      "cell_type": "code",
      "source": [
        "# EX1: Método de Newton-Raphson: utilizado para encontrar as raízes/zeros de uma função, com x0 = 1\n",
        "\n",
        "def newton_raphson(f, f_prime, x0, tolerance, max_iterations):\n",
        "    x = x0\n",
        "    iteration = 0\n",
        "\n",
        "    while abs(f(x)) > tolerance and iteration < max_iterations:\n",
        "        x = x - (f(x) / f_prime(x))\n",
        "        iteration += 1\n",
        "\n",
        "    return x\n",
        "\n",
        "# Definindo a função e sua derivada\n",
        "def f(x):\n",
        "    return x**10 + 5*x**2 + 1 \n",
        "\n",
        "def f_prime(x):\n",
        "    return 10*(x**9) + 10*x \n",
        "\n",
        "# Chamando o método de Newton-Raphson\n",
        "root = newton_raphson(f, f_prime, x0=1, tolerance=0.001, max_iterations=100)\n",
        "\n",
        "print(\"Aproximação do zero da função (raiz):\", root)\n",
        "\n",
        "# Calculando os valores correspondentes no eixo y\n",
        "y = f(x)\n",
        "\n",
        "import matplotlib.pyplot as plt\n",
        "import numpy as np\n",
        "\n",
        "# Definindo a função\n",
        "def f(x):\n",
        "    return x**10 + 5*x**2 + 1 \n",
        "\n",
        "# Gerando pontos no eixo x\n",
        "x = np.linspace(-0.005, 0.005, 100)\n",
        "\n",
        "# Calculando os valores correspondentes no eixo y\n",
        "y = f(x)\n",
        "\n",
        "# Criando o gráfico\n",
        "\n",
        "# Calcular os valores de y\n",
        "y = x**10 + 5*x**2 + 1\n",
        "\n",
        "# Plotar o gráfico\n",
        "plt.plot(x, y)\n",
        "plt.title('Gráfico de f(x) = x^10 + 5x^2 + 1')\n",
        "plt.xlabel('x')\n",
        "plt.ylabel('f(x)')\n",
        "plt.grid(True)\n",
        "plt.show()"
      ],
      "metadata": {
        "colab": {
          "base_uri": "https://localhost:8080/",
          "height": 489
        },
        "id": "DwES2ajcBfRt",
        "outputId": "a4322c52-bd7d-4492-c52e-98f5b1544c83"
      },
      "execution_count": null,
      "outputs": [
        {
          "output_type": "stream",
          "name": "stdout",
          "text": [
            "Aproximação do zero da função (raiz): 0.01224991957554844\n"
          ]
        },
        {
          "output_type": "display_data",
          "data": {
            "text/plain": [
              "<Figure size 640x480 with 1 Axes>"
            ],
            "image/png": "[encoded data removed]"
          },
          "metadata": {}
        }
      ]
    },
    {
      "cell_type": "code",
      "source": [
        "# EX2: Método de Newton-Raphson: utilizado para encontrar as raízes/zeros de uma função, com x0 = 0.5\n",
        "\n",
        "def newton_raphson(f, f_prime, x0, tolerance, max_iterations):\n",
        "    x = x0\n",
        "    iteration = 0\n",
        "\n",
        "    while abs(f(x)) > tolerance and iteration < max_iterations:\n",
        "        x = x - (f(x) / f_prime(x))\n",
        "        iteration += 1\n",
        "\n",
        "    return x\n",
        "\n",
        "# Definindo a função e sua derivada\n",
        "def f(x):\n",
        "    return x**3 - 4\n",
        "\n",
        "def f_prime(x):\n",
        "    return 3*x**2 \n",
        "\n",
        "# Chamando o método de Newton-Raphson\n",
        "root = newton_raphson(f, f_prime, x0=0.5, tolerance=0.001, max_iterations=100)\n",
        "\n",
        "print(\"Aproximação do zero da função (raiz):\", root)\n",
        "\n",
        "import matplotlib.pyplot as plt\n",
        "import numpy as np\n",
        "\n",
        "# Definindo a função\n",
        "def f(x):\n",
        "    return x**3 - 4 \n",
        "\n",
        "# Gerando pontos no eixo x\n",
        "x = np.linspace(-0.005, 0.005, 100)\n",
        "\n",
        "# Calculando os valores correspondentes no eixo y\n",
        "y = f(x)\n",
        "\n",
        "# Criando o gráfico\n",
        "\n",
        "# Calcular os valores de y\n",
        "y = x**3 - 4\n",
        "\n",
        "# Plotar o gráfico\n",
        "plt.plot(x, y)\n",
        "plt.title('Gráfico de f(x) = x^3 - 4')\n",
        "plt.xlabel('x')\n",
        "plt.ylabel('f(x)')\n",
        "plt.grid(True)\n",
        "plt.show()"
      ],
      "metadata": {
        "colab": {
          "base_uri": "https://localhost:8080/",
          "height": 489
        },
        "id": "4T9RISqXH7ly",
        "outputId": "8d3439a8-e4d4-4c44-d8d8-b2dfdbc35392"
      },
      "execution_count": null,
      "outputs": [
        {
          "output_type": "stream",
          "name": "stdout",
          "text": [
            "Aproximação do zero da função (raiz): 1.5874046541275162\n"
          ]
        },
        {
          "output_type": "display_data",
          "data": {
            "text/plain": [
              "<Figure size 640x480 with 1 Axes>"
            ],
            "image/png": "[encoded data removed]"
          },
          "metadata": {}
        }
      ]
    },
    {
      "cell_type": "code",
      "source": [
        "# EX3: Método de Newton-Raphson: utilizado para encontrar as raízes/zeros de uma função, com x0 = 1\n",
        "\n",
        "def newton_raphson(f, f_prime, x0, tolerance, max_iterations):\n",
        "    x = x0\n",
        "    iteration = 0\n",
        "\n",
        "    while abs(f(x)) > tolerance and iteration < max_iterations:\n",
        "        x = x - (f(x) / f_prime(x))\n",
        "        iteration += 1\n",
        "\n",
        "    return x\n",
        "\n",
        "# Definindo a função e sua derivada\n",
        "def f(x):\n",
        "    return x**3 - 4\n",
        "\n",
        "def f_prime(x):\n",
        "    return 3*x**2 \n",
        "\n",
        "# Chamando o método de Newton-Raphson\n",
        "root = newton_raphson(f, f_prime, x0=1, tolerance=0.001, max_iterations=100)\n",
        "\n",
        "print(\"Aproximação do zero da função (raiz):\", root)\n",
        "\n",
        "import matplotlib.pyplot as plt\n",
        "import numpy as np\n",
        "\n",
        "# Definindo a função\n",
        "def f(x):\n",
        "    return x**3 - 4 \n"
      ],
      "metadata": {
        "colab": {
          "base_uri": "https://localhost:8080/"
        },
        "outputId": "f87eefed-fc5a-4b9b-aaa2-9f38e42ba3ee",
        "id": "giDqIO1DfqUg"
      },
      "execution_count": null,
      "outputs": [
        {
          "output_type": "stream",
          "name": "stdout",
          "text": [
            "Aproximação do zero da função (raiz): 1.5874096961416333\n"
          ]
        }
      ]
    },
    {
      "cell_type": "code",
      "source": [
        "# EX4: Método de Newton-Raphson: utilizado para encontrar as raízes/zeros de uma função, com x0 = 0.5\n",
        "\n",
        "def newton_raphson(f, f_prime, x0, tolerance, max_iterations):\n",
        "    x = x0\n",
        "    iteration = 0\n",
        "\n",
        "    while abs(f(x)) > tolerance and iteration < max_iterations:\n",
        "        x = x - (f(x) / f_prime(x))\n",
        "        iteration += 1\n",
        "\n",
        "    return x\n",
        "\n",
        "# Definindo a função e sua derivada\n",
        "def f(x):\n",
        "    return x**2 + 2\n",
        "\n",
        "def f_prime(x):\n",
        "    return 2*x \n",
        "\n",
        "# Chamando o método de Newton-Raphson\n",
        "root = newton_raphson(f, f_prime, x0=0.5, tolerance=0.001, max_iterations=10)\n",
        "\n",
        "print(\"Aproximação do zero da função (raiz):\", root)\n",
        "\n",
        "import matplotlib.pyplot as plt\n",
        "import numpy as np\n",
        "\n",
        "# Definindo a função\n",
        "def f(x):\n",
        " return x**2 + 2\n",
        "\n",
        "# Gerando pontos no eixo x\n",
        "x = np.linspace(-0.0005, 0.0005, 100)\n",
        "\n",
        "# Calculando os valores correspondentes no eixo y\n",
        "y = f(x)\n",
        "\n",
        "# Criando o gráfico\n",
        "\n",
        "# Calcular os valores de y\n",
        "y = x**2 + 2\n",
        "\n",
        "# Plotar o gráfico\n",
        "plt.plot(x, y)\n",
        "plt.title('Gráfico de f(x) = x^2 + 2')\n",
        "plt.xlabel('x')\n",
        "plt.ylabel('f(x)')\n",
        "plt.grid(True)\n",
        "plt.show()"
      ],
      "metadata": {
        "colab": {
          "base_uri": "https://localhost:8080/",
          "height": 489
        },
        "id": "JMHVuelSnnmK",
        "outputId": "6544a06c-8bb5-414b-fb94-9404049d1528"
      },
      "execution_count": null,
      "outputs": [
        {
          "output_type": "stream",
          "name": "stdout",
          "text": [
            "Aproximação do zero da função (raiz): 1.6001611866035395\n"
          ]
        },
        {
          "output_type": "display_data",
          "data": {
            "text/plain": [
              "<Figure size 640x480 with 1 Axes>"
            ],
            "image/png": "[encoded data removed]"
          },
          "metadata": {}
        }
      ]
    },
    {
      "cell_type": "code",
      "source": [
        "# EX4: Método de Newton-Raphson: utilizado para encontrar as raízes/zeros de uma função, com x0 = 0.5\n",
        "\n",
        "def newton_raphson(f, f_prime, x0, tolerance, max_iterations):\n",
        "    x = x0\n",
        "    iteration = 0\n",
        "\n",
        "    while abs(f(x)) > tolerance and iteration < max_iterations:\n",
        "        x = x - (f(x) / f_prime(x))\n",
        "        iteration += 1\n",
        "\n",
        "    return x\n",
        "\n",
        "# Definindo a função e sua derivada\n",
        "def f(x):\n",
        "    return 2*x + 3\n",
        "\n",
        "def f_prime(x):\n",
        "  return 2\n",
        "\n",
        "# Chamando o método de Newton-Raphson\n",
        "root = newton_raphson(f, f_prime, x0=0.5, tolerance=0.001, max_iterations=10)\n",
        "\n",
        "print(\"Aproximação do zero da função (raiz):\", root)\n",
        "\n",
        "import matplotlib.pyplot as plt\n",
        "import numpy as np\n",
        "\n",
        "# Definindo a função\n",
        "def f(x):\n",
        " return 2*x + 3\n",
        "\n",
        "# Gerando pontos no eixo x\n",
        "x = np.linspace(-0.005, 0.05, 100)\n",
        "\n",
        "# Calculando os valores correspondentes no eixo y\n",
        "y = f(x)\n",
        "\n",
        "# Criando o gráfico\n",
        "\n",
        "# Calcular os valores de y\n",
        "y = 2*x + 3\n",
        "\n",
        "# Plotar o gráfico\n",
        "plt.plot(x, y)\n",
        "plt.title('Gráfico de f(x) = 2^x + 3')\n",
        "plt.xlabel('x')\n",
        "plt.ylabel('f(x)')\n",
        "plt.grid(True)\n",
        "plt.show()"
      ],
      "metadata": {
        "colab": {
          "base_uri": "https://localhost:8080/",
          "height": 489
        },
        "id": "az5SNYWAkcqk",
        "outputId": "9a67a4a1-e072-4773-ae05-97489a968458"
      },
      "execution_count": null,
      "outputs": [
        {
          "output_type": "stream",
          "name": "stdout",
          "text": [
            "Aproximação do zero da função (raiz): -1.5\n"
          ]
        },
        {
          "output_type": "display_data",
          "data": {
            "text/plain": [
              "<Figure size 640x480 with 1 Axes>"
            ],
            "image/png": "[encoded data removed]"
          },
          "metadata": {}
        }
      ]
    },
    {
      "cell_type": "code",
      "source": [
        "# EX4: Método de Newton-Raphson: utilizado para encontrar as raízes/zeros de uma função, com x0 = 0.5\n",
        "\n",
        "def newton_raphson(f, f_prime, x0, tolerance, max_iterations):\n",
        "    x = x0\n",
        "    iteration = 0\n",
        "\n",
        "    while abs(f(x)) > tolerance and iteration < max_iterations:\n",
        "        x = x - (f(x) / f_prime(x))\n",
        "        iteration += 1\n",
        "\n",
        "    return x\n",
        "\n",
        "# Definindo a função e sua derivada\n",
        "def f(x):\n",
        "    return -4*x + 1\n",
        "\n",
        "def f_prime(x):\n",
        "  return -4\n",
        "\n",
        "# Chamando o método de Newton-Raphson\n",
        "root = newton_raphson(f, f_prime, x0=0.5, tolerance=0.001, max_iterations=10)\n",
        "\n",
        "print(\"Aproximação do zero da função (raiz):\", root)\n",
        "\n",
        "import matplotlib.pyplot as plt\n",
        "import numpy as np\n",
        "\n",
        "# Definindo a função\n",
        "def f(x):\n",
        " return -4*x + 1\n",
        "\n",
        "# Gerando pontos no eixo x\n",
        "x = np.linspace(-0.005, 0.05, 100)\n",
        "\n",
        "# Calculando os valores correspondentes no eixo y\n",
        "y = f(x)\n",
        "\n",
        "# Criando o gráfico\n",
        "\n",
        "# Calcular os valores de y\n",
        "y = -4*x + 1\n",
        "\n",
        "# Plotar o gráfico\n",
        "plt.plot(x, y)\n",
        "plt.title('Gráfico de f(x) = -4^x + 1')\n",
        "plt.xlabel('x')\n",
        "plt.ylabel('f(x)')\n",
        "plt.grid(True)\n",
        "plt.show()"
      ],
      "metadata": {
        "colab": {
          "base_uri": "https://localhost:8080/",
          "height": 489
        },
        "id": "oHYYY-4n3e_5",
        "outputId": "39db2f26-29b1-468b-d885-c45dfa4beb25"
      },
      "execution_count": null,
      "outputs": [
        {
          "output_type": "stream",
          "name": "stdout",
          "text": [
            "Aproximação do zero da função (raiz): 0.25\n"
          ]
        },
        {
          "output_type": "display_data",
          "data": {
            "text/plain": [
              "<Figure size 640x480 with 1 Axes>"
            ],
            "image/png": "[encoded data removed]"
          },
          "metadata": {}
        }
      ]
    },
    {
      "cell_type": "code",
      "source": [
        "# Aritmética de ponto fixo: transformar um algarismo de decimal para binário\n",
        "def decimal_para_binario(decimal):\n",
        "    if decimal == 0:\n",
        "        return '0'\n",
        "    \n",
        "    binario = ''\n",
        "    while decimal > 0:\n",
        "        binario = str(decimal % 2) + binario\n",
        "        decimal = decimal // 2\n",
        "    \n",
        "    return binario\n",
        "numero_decimal = 17\n",
        "numero_binario = decimal_para_binario(numero_decimal)\n",
        "print(numero_binario)"
      ],
      "metadata": {
        "id": "3UE2SNznf36G",
        "colab": {
          "base_uri": "https://localhost:8080/"
        },
        "outputId": "71f30568-eb75-4e7d-f31a-d48d9ef9b467"
      },
      "execution_count": null,
      "outputs": [
        {
          "output_type": "stream",
          "name": "stdout",
          "text": [
            "10001\n"
          ]
        }
      ]
    },
    {
      "cell_type": "code",
      "source": [
        "# Aritmética de ponto fixo: transformar um algarismo de decimal para binário\n",
        "def decimal_para_binario(decimal):\n",
        "    if decimal == 0:\n",
        "        return '0'\n",
        "    \n",
        "    binario = ''\n",
        "    while decimal > 0:\n",
        "        binario = str(decimal % 2) + binario\n",
        "        decimal = decimal // 2\n",
        "    \n",
        "    return binario\n",
        "numero_decimal = 101\n",
        "numero_binario = decimal_para_binario(numero_decimal)\n",
        "print(numero_binario)"
      ],
      "metadata": {
        "colab": {
          "base_uri": "https://localhost:8080/"
        },
        "id": "BgSd6nUF1Juo",
        "outputId": "4aedaf38-02f9-4c1a-b5c8-6c269b4dcef9"
      },
      "execution_count": null,
      "outputs": [
        {
          "output_type": "stream",
          "name": "stdout",
          "text": [
            "1100101\n"
          ]
        }
      ]
    },
    {
      "cell_type": "code",
      "source": [
        "# Aritmética de ponto fixo: transformar um algarismo de decimal para binário\n",
        "def decimal_para_binario(decimal):\n",
        "    if decimal == 0:\n",
        "        return '0'\n",
        "    \n",
        "    binario = ''\n",
        "    while decimal > 0:\n",
        "        binario = str(decimal % 2) + binario\n",
        "        decimal = decimal // 2\n",
        "    \n",
        "    return binario\n",
        "numero_decimal = 52\n",
        "numero_binario = decimal_para_binario(numero_decimal)\n",
        "print(numero_binario)"
      ],
      "metadata": {
        "colab": {
          "base_uri": "https://localhost:8080/"
        },
        "id": "aBQRFOeG1O9N",
        "outputId": "3fe73aa6-c2aa-40a2-dd64-39baa5971753"
      },
      "execution_count": null,
      "outputs": [
        {
          "output_type": "stream",
          "name": "stdout",
          "text": [
            "110100\n"
          ]
        }
      ]
    },
    {
      "cell_type": "code",
      "source": [
        "# Aritmética de ponto fixo: transformar um algarismo de decimal para binário\n",
        "def decimal_para_binario(decimal):\n",
        "    if decimal == 0:\n",
        "        return '0'\n",
        "    \n",
        "    binario = ''\n",
        "    while decimal > 0:\n",
        "        binario = str(decimal % 2) + binario\n",
        "        decimal = decimal // 2\n",
        "    \n",
        "    return binario\n",
        "numero_decimal = 9\n",
        "numero_binario = decimal_para_binario(numero_decimal)\n",
        "print(numero_binario)"
      ],
      "metadata": {
        "colab": {
          "base_uri": "https://localhost:8080/"
        },
        "id": "TU7Z5hbD1azW",
        "outputId": "0bd642d4-4f26-4d44-ed26-f63022d254ce"
      },
      "execution_count": null,
      "outputs": [
        {
          "output_type": "stream",
          "name": "stdout",
          "text": [
            "1001\n"
          ]
        }
      ]
    },
    {
      "cell_type": "code",
      "source": [
        "# Aritmética de ponto fixo: transformar um algarismo de decimal para binário\n",
        "def decimal_para_binario(decimal):\n",
        "    if decimal == 0:\n",
        "        return '0'\n",
        "    \n",
        "    binario = ''\n",
        "    while decimal > 0:\n",
        "        binario = str(decimal % 2) + binario\n",
        "        decimal = decimal // 2\n",
        "    \n",
        "    return binario\n",
        "numero_decimal = 46\n",
        "numero_binario = decimal_para_binario(numero_decimal)\n",
        "print(numero_binario)"
      ],
      "metadata": {
        "colab": {
          "base_uri": "https://localhost:8080/"
        },
        "id": "Vce0ud4R2QR_",
        "outputId": "7171f900-d433-4988-f040-6f32f9975715"
      },
      "execution_count": null,
      "outputs": [
        {
          "output_type": "stream",
          "name": "stdout",
          "text": [
            "101110\n"
          ]
        }
      ]
    }
  ]
}