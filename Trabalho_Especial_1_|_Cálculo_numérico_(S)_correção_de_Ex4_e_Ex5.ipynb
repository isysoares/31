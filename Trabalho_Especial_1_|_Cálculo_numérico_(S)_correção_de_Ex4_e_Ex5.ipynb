{
  "nbformat": 4,
  "nbformat_minor": 0,
  "metadata": {
    "colab": {
      "provenance": [],
      "authorship_tag": "ABX9TyOzLJNyIk9gt9Jj68PC9eb7",
      "include_colab_link": true
    },
    "kernelspec": {
      "name": "python3",
      "display_name": "Python 3"
    },
    "language_info": {
      "name": "python"
    }
  },
  "cells": [
    {
      "cell_type": "markdown",
      "metadata": {
        "id": "view-in-github",
        "colab_type": "text"
      },
      "source": [
        "<a href=\"https://colab.research.google.com/github/isysoares/31/blob/master/Trabalho_Especial_1_%7C_C%C3%A1lculo_num%C3%A9rico_(S)_corre%C3%A7%C3%A3o_de_Ex4_e_Ex5.ipynb\" target=\"_parent\"><img src=\"https://colab.research.google.com/assets/colab-badge.svg\" alt=\"Open In Colab\"/></a>"
      ]
    },
    {
      "cell_type": "code",
      "source": [
        "# Ex4) Aritmética de ponto flutuante)\n",
        "print(\"------------ right code ------------\\n\")\n",
        "\n",
        "\n",
        "# Parâmetros da aritmética de ponto flutuante\n",
        "t = 4  # Quantidade de dígitos significativos\n",
        "e_min = -1  # Menor valor do expoente\n",
        "e_max = 1   # Maior valor do expoente\n",
        "\n",
        "# Converter x para a notação de ponto flutuante\n",
        "\n",
        "# Valores dos números x e y\n",
        "x = 0.0001\n",
        "y = 0.02\n",
        "\n",
        "# Verificar e imprimir o expoente de x\n",
        "if abs(x) < 1:\n",
        "    x_exp1 = 0\n",
        "\n",
        "    while abs(x) < 0.1:\n",
        "        x *= 10\n",
        "        x_exp1 -= 1\n",
        "    print(\"x_expoente (ordem de grandeza) =>\", x_exp1)\n",
        "else:\n",
        "    x_exp = 0\n",
        "    while abs(x) > 1:\n",
        "        x /= 10\n",
        "        x_exp += 1\n",
        "    print(\"x_expoente (ordem de grandeza) =>\", x_exp)\n",
        "\n",
        "# Verificar e imprimir o expoente de y\n",
        "if abs(y) < 1:\n",
        "    y_exp1 = 0\n",
        "    while abs(y) < 0.1:\n",
        "        y *= 10\n",
        "        y_exp1 -= 1\n",
        "    print(\"y_expoente (ordem de grandeza) =>\", y_exp1)\n",
        "else:\n",
        "    y_exp = 0\n",
        "    while abs(y) > 1:\n",
        "        y /= 10\n",
        "        y_exp += 1\n",
        "    print(\"y_expoente (ordem de grandeza) =>\", y_exp)\n",
        "\n",
        "\n",
        "x_exp = 0\n",
        "while abs(x) > 1:\n",
        "    x /= 10\n",
        "    x_exp += 1\n",
        "\n",
        "x_mantissa = round(x, t)\n",
        "print(\"--- CALCULO DO VALOR DE X:\", x,\"----\\n\")\n",
        "\n",
        "print(\"x_expoente =>\", x_exp1)\n",
        "print(\"x_mantissa =>\",x_mantissa)\n",
        "print(\"Quantidade de dígitos significativos =>\", t, '\\n')\n",
        "x_mantissa\n",
        "x_notacao = \"{}x10^{}\".format(x_mantissa, x_exp1)\n",
        "print(\"NOTAÇÂO X =>\", x_notacao, '\\n\\n')\n",
        "\n",
        "\n",
        "print(\"--- CALCULO DO VALOR DE Y:\", y,\"----\\n\")\n",
        "\n",
        "# Converter y para a notação de ponto flutuante\n",
        "y_exp = 0\n",
        "while abs(y) > 1:\n",
        "    y /= 10\n",
        "    y_exp += 1\n",
        "\n",
        "y_mantissa = round(y, t)\n",
        "\n",
        "print(\"y_expoente =>\", y_exp1)\n",
        "print(\"y_mantissa =>\",y_mantissa)\n",
        "print(\"Quantidade de dígitos significativos =>\", t, '\\n')\n",
        "\n",
        "y_notacao = \"{}x10^{}\".format(y_mantissa, y_exp1)\n",
        "print(\"Notação de Y =>\", y_notacao, '\\n')\n",
        "\n",
        "print(\"-------- NOTAÇÕES --------\")\n",
        "\n",
        "print(\"Notação de X =>\", x_notacao)\n",
        "print(\"Notação de Y =>\", y_notacao)\n",
        "\n",
        "print(\"\\n\")\n",
        "\n",
        "print(\"--- MULTIPLICAÇÃO DO X:({}) e Y:({}) ---\\n\".format(x, y))\n",
        "\n",
        "# Realizar a multiplicação dos números na notação de ponto flutuante\n",
        "resultado = (y_mantissa) * (x_mantissa)\n",
        "resultado_exp = x_exp1 + y_exp1\n",
        "# Valores dos números x e y\n",
        "if abs(resultado) < 1:\n",
        "  resultado *= 10\n",
        "resultado_exp -= 1\n",
        "resultado_mantissa = round(resultado, t)\n",
        "\n",
        "resultado_notacao = \"{}x10^{}\".format(resultado_mantissa, resultado_exp)\n",
        "\n",
        "if resultado_mantissa < 1:\n",
        "    print(\"Underflow\")\n",
        "elif resultado_exp > e_max:\n",
        "    print(\"Overflow\")\n",
        "print(\"x * y =\", resultado_notacao)\n",
        "\n",
        "print(\"\\n\")\n",
        "\n"
      ],
      "metadata": {
        "colab": {
          "base_uri": "https://localhost:8080/"
        },
        "id": "ENgvXdb-O89z",
        "outputId": "4e3874ac-35a8-4c80-f06e-d561d283d32b"
      },
      "execution_count": null,
      "outputs": [
        {
          "output_type": "stream",
          "name": "stdout",
          "text": [
            "------------ right code! ------------\n",
            "\n",
            "x_expoente (ordem de grandeza) => -3\n",
            "y_expoente (ordem de grandeza) => -1\n",
            "--- CALCULO DO VALOR DE X: 0.1 ----\n",
            "\n",
            "x_expoente => -3\n",
            "x_mantissa => 0.1\n",
            "Quantidade de dígitos significativos => 4 \n",
            "\n",
            "NOTAÇÂO X => 0.1x10^-3 \n",
            "\n",
            "\n",
            "--- CALCULO DO VALOR DE Y: 0.2 ----\n",
            "\n",
            "y_expoente => -1\n",
            "y_mantissa => 0.2\n",
            "Quantidade de dígitos significativos => 4 \n",
            "\n",
            "Notação de Y => 0.2x10^-1 \n",
            "\n",
            "-------- NOTAÇÕES --------\n",
            "Notação de X => 0.1x10^-3\n",
            "Notação de Y => 0.2x10^-1\n",
            "\n",
            "\n",
            "--- MULTIPLICAÇÃO DO X:(0.1) e Y:(0.2) ---\n",
            "\n",
            "Underflow\n",
            "x * y = 0.2x10^-5\n",
            "\n",
            "\n"
          ]
        }
      ]
    },
    {
      "cell_type": "code",
      "source": [
        "def decimal_para_binario(decimal):\n",
        "    if decimal == 0:\n",
        "        return '0'\n",
        "    \n",
        "    binario = ''\n",
        "    while decimal > 0:\n",
        "        binario = str(decimal % 2) + binario\n",
        "        decimal = decimal // 2\n",
        "    \n",
        "    return binario\n",
        "numero_decimal = 17\n",
        "numero_binario = decimal_para_binario(numero_decimal)\n",
        "print(numero_binario)"
      ],
      "metadata": {
        "colab": {
          "base_uri": "https://localhost:8080/"
        },
        "id": "NQgZK-EjdmYL",
        "outputId": "e5e756e2-0f77-4952-acdd-e1f7b749dcc1"
      },
      "execution_count": null,
      "outputs": [
        {
          "output_type": "stream",
          "name": "stdout",
          "text": [
            "10001\n"
          ]
        }
      ]
    },
    {
      "cell_type": "code",
      "source": [
        "print(\"------------ right code! ------------\\n\")\n",
        "\n",
        "\n",
        "# Parâmetros da aritmética de ponto flutuante\n",
        "t = 5  # Quantidade de dígitos significativos\n",
        "e_min = -2  # Menor valor do expoente\n",
        "e_max = 3   # Maior valor do expoente\n",
        "\n",
        "# Converter x para a notação de ponto flutuante\n",
        "\n",
        "# Valores dos números x e y\n",
        "x = 0.008\n",
        "y = 0.25\n",
        "\n",
        "# Verificar e imprimir o expoente de x\n",
        "if abs(x) < 1:\n",
        "    x_exp1 = 0\n",
        "\n",
        "    while abs(x) < 0.1:\n",
        "        x *= 10\n",
        "        x_exp1 -= 1\n",
        "    print(\"x_expoente (ordem de grandeza) =>\", x_exp1)\n",
        "else:\n",
        "    x_exp = 0\n",
        "    while abs(x) > 1:\n",
        "        x /= 10\n",
        "        x_exp += 1\n",
        "    print(\"x_expoente (ordem de grandeza) =>\", x_exp)\n",
        "\n",
        "# Verificar e imprimir o expoente de y\n",
        "if abs(y) < 1:\n",
        "    y_exp1 = 0\n",
        "    while abs(y) < 0.1:\n",
        "        y *= 10\n",
        "        y_exp1 -= 1\n",
        "    print(\"y_expoente (ordem de grandeza) =>\", y_exp1)\n",
        "else:\n",
        "    y_exp = 0\n",
        "    while abs(y) > 1:\n",
        "        y /= 10\n",
        "        y_exp += 1\n",
        "    print(\"y_expoente (ordem de grandeza) =>\", y_exp)\n",
        "\n",
        "\n",
        "x_exp = 0\n",
        "while abs(x) > 1:\n",
        "    x /= 10\n",
        "    x_exp += 1\n",
        "\n",
        "x_mantissa = round(x, t)\n",
        "print(\"--- CALCULO DO VALOR DE X:\", x,\"----\\n\")\n",
        "\n",
        "print(\"x_expoente =>\", x_exp1)\n",
        "print(\"x_mantissa =>\",x_mantissa)\n",
        "print(\"Quantidade de dígitos significativos =>\", t, '\\n')\n",
        "x_mantissa\n",
        "x_notacao = \"{}x10^{}\".format(x_mantissa, x_exp1)\n",
        "print(\"NOTAÇÂO X =>\", x_notacao, '\\n\\n')\n",
        "\n",
        "\n",
        "print(\"--- CALCULO DO VALOR DE Y:\", y,\"----\\n\")\n",
        "\n",
        "# Converter y para a notação de ponto flutuante\n",
        "y_exp = 0\n",
        "while abs(y) > 1:\n",
        "    y /= 10\n",
        "    y_exp += 1\n",
        "\n",
        "y_mantissa = round(y, t)\n",
        "\n",
        "print(\"y_expoente =>\", y_exp1)\n",
        "print(\"y_mantissa =>\",y_mantissa)\n",
        "print(\"Quantidade de dígitos significativos =>\", t, '\\n')\n",
        "\n",
        "y_notacao = \"{}x10^{}\".format(y_mantissa, y_exp1)\n",
        "print(\"Notação de Y =>\", y_notacao, '\\n')\n",
        "\n",
        "print(\"-------- NOTAÇÕES --------\")\n",
        "\n",
        "print(\"Notação de X =>\", x_notacao)\n",
        "print(\"Notação de Y =>\", y_notacao)\n",
        "\n",
        "print(\"\\n\")\n",
        "\n",
        "print(\"--- MULTIPLICAÇÃO DO X:({}) e Y:({}) ---\\n\".format(x, y))\n",
        "\n",
        "# Realizar a multiplicação dos números na notação de ponto flutuante\n",
        "resultado = (y_mantissa) * (x_mantissa)\n",
        "resultado_exp = x_exp1 + y_exp1\n",
        "# Valores dos números x e y\n",
        "if abs(resultado) < 0.1:\n",
        "  resultado *= 10\n",
        "resultado_exp -= 0\n",
        "resultado_mantissa = round(resultado, t)\n",
        "\n",
        "resultado_notacao = \"{}x10^{}\".format(resultado_mantissa, resultado_exp)\n",
        "\n",
        "if resultado_mantissa < 1:\n",
        "    print(\"Underflow\")\n",
        "elif resultado_exp > e_max:\n",
        "    print(\"Overflow\")\n",
        "print(\"x * y =\", resultado_notacao)\n",
        "\n",
        "print(\"\\n\")"
      ],
      "metadata": {
        "colab": {
          "base_uri": "https://localhost:8080/"
        },
        "id": "Nb0VBoBqsU_9",
        "outputId": "8edda51b-e43d-4d37-ca12-7466fb54265a"
      },
      "execution_count": null,
      "outputs": [
        {
          "output_type": "stream",
          "name": "stdout",
          "text": [
            "------------ right code! ------------\n",
            "\n",
            "x_expoente (ordem de grandeza) => -2\n",
            "y_expoente (ordem de grandeza) => 0\n",
            "--- CALCULO DO VALOR DE X: 0.8 ----\n",
            "\n",
            "x_expoente => -2\n",
            "x_mantissa => 0.8\n",
            "Quantidade de dígitos significativos => 5 \n",
            "\n",
            "NOTAÇÂO X => 0.8x10^-2 \n",
            "\n",
            "\n",
            "--- CALCULO DO VALOR DE Y: 0.25 ----\n",
            "\n",
            "y_expoente => 0\n",
            "y_mantissa => 0.25\n",
            "Quantidade de dígitos significativos => 5 \n",
            "\n",
            "Notação de Y => 0.25x10^0 \n",
            "\n",
            "-------- NOTAÇÕES --------\n",
            "Notação de X => 0.8x10^-2\n",
            "Notação de Y => 0.25x10^0\n",
            "\n",
            "\n",
            "--- MULTIPLICAÇÃO DO X:(0.8) e Y:(0.25) ---\n",
            "\n",
            "Underflow\n",
            "x * y = 0.2x10^-2\n",
            "\n",
            "\n"
          ]
        }
      ]
    },
    {
      "cell_type": "code",
      "source": [
        "import numpy as np\n",
        "import matplotlib.pyplot as plt\n",
        "\n",
        "# Criar valores x no intervalo desejado\n",
        "x = np.linspace(-0.05, 0.05, 10)\n",
        "\n",
        "# Calcular os valores de y\n",
        "y = x**10 + 5*x**2 + 1\n",
        "\n",
        "# Plotar o gráfico\n",
        "plt.plot(x, y)\n",
        "plt.title('Gráfico de f(x) = x^10 + 5x^2 + 1')\n",
        "plt.xlabel('x')\n",
        "plt.ylabel('f(x)')\n",
        "plt.grid(True)\n",
        "plt.show()"
      ],
      "metadata": {
        "colab": {
          "base_uri": "https://localhost:8080/",
          "height": 472
        },
        "id": "Ms3xbJA6WnBJ",
        "outputId": "26a71314-0b79-454b-f748-3a0ddf780e60"
      },
      "execution_count": null,
      "outputs": [
        {
          "output_type": "display_data",
          "data": {
            "text/plain": [
              "<Figure size 640x480 with 1 Axes>"
            ],
            "image/png": "[encoded data removed]"
          },
          "metadata": {}
        }
      ]
    },
    {
      "cell_type": "code",
      "source": [
        "import numpy as np\n",
        "import matplotlib.pyplot as plt\n",
        "\n",
        "# Criar valores x no intervalo desejado\n",
        "x = np.linspace(-2, 2, 500)\n",
        "\n",
        "# Calcular os valores de y\n",
        "y = x**10 + 5*x**2 + 1\n",
        "\n",
        "# Plotar o gráfico\n",
        "plt.plot(x, y)\n",
        "plt.axhline(0, color='black', linewidth=0.5)  # Eixo x\n",
        "plt.axvline(0, color='black', linewidth=0.5)  # Eixo y\n",
        "plt.title('Gráfico de f(x) = x^10 + 5x^2 + 1')\n",
        "plt.xlabel('x')\n",
        "plt.ylabel('f(x)')\n",
        "plt.grid(True)\n",
        "plt.show()\n"
      ],
      "metadata": {
        "colab": {
          "base_uri": "https://localhost:8080/",
          "height": 472
        },
        "id": "su8KOZhfdtjc",
        "outputId": "b8e8da6f-da0e-451d-a29b-e507bc1f630e"
      },
      "execution_count": null,
      "outputs": [
        {
          "output_type": "display_data",
          "data": {
            "text/plain": [
              "<Figure size 640x480 with 1 Axes>"
            ],
            "image/png": "[encoded data removed]"
          },
          "metadata": {}
        }
      ]
    }
  ]
}